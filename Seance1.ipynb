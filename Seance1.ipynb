{
 "cells": [
  {
   "cell_type": "code",
   "execution_count": null,
   "metadata": {},
   "outputs": [],
   "source": [
    "\n",
    "import numpy as np\n",
    "print(\"Quel est la hauteur de votre cône ?\")\n",
    "hauteur=float(input())\n",
    "print(\"Quel est le rayon de votre cône ?\")\n",
    "rayon=float(input())\n",
    "volume=np.pi*hauteur*(rayon)**2/3\n",
    "print(\"Le volume de votre cône est égale à \"+str(volume))"
   ]
  },
  {
   "cell_type": "code",
   "execution_count": null,
   "metadata": {},
   "outputs": [],
   "source": [
    "import numpy as np\n",
    "print(\"n ?\")\n",
    "n=int(input())\n",
    "somme=0\n",
    "for i in range(n+1):\n",
    "    somme+=i**3\n",
    "print(somme)"
   ]
  },
  {
   "cell_type": "code",
   "execution_count": null,
   "metadata": {},
   "outputs": [],
   "source": [
    "print(\"n ?\")\n",
    "n=int(input())\n",
    "somme=0\n",
    "for i in range(n+1):\n",
    "    somme+=i\n",
    "print(somme)"
   ]
  },
  {
   "cell_type": "code",
   "execution_count": null,
   "metadata": {},
   "outputs": [],
   "source": [
    "somme=0\n",
    "for i in range(1000):\n",
    "    k=[int(nb) for nb in str(i)]\n",
    "    for j in k:\n",
    "        if(j==1):\n",
    "            somme+=1\n",
    "print(somme)"
   ]
  },
  {
   "cell_type": "code",
   "execution_count": null,
   "metadata": {},
   "outputs": [],
   "source": [
    "print(\"n= ?\")\n",
    "n=int(input())\n",
    "taille=len(str(n))\n",
    "for i in range(taille):\n",
    "    k=n//10**i\n",
    "    new=len(str(k))\n",
    "    while new>1:\n",
    "        k=n//10**i\n",
    "        new=len(str(k))"
   ]
  },
  {
   "cell_type": "code",
   "execution_count": null,
   "metadata": {},
   "outputs": [],
   "source": []
  }
 ],
 "metadata": {
  "kernelspec": {
   "display_name": "Python 3",
   "language": "python",
   "name": "python3"
  },
  "language_info": {
   "codemirror_mode": {
    "name": "ipython",
    "version": 3
   },
   "file_extension": ".py",
   "mimetype": "text/x-python",
   "name": "python",
   "nbconvert_exporter": "python",
   "pygments_lexer": "ipython3",
   "version": "3.7.6"
  }
 },
 "nbformat": 4,
 "nbformat_minor": 4
}
